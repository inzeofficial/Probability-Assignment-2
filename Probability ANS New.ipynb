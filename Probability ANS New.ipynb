{
 "cells": [
  {
   "cell_type": "code",
   "execution_count": null,
   "id": "74ac738a-b176-4ffa-9132-614ef901f6a4",
   "metadata": {
    "scrolled": true
   },
   "outputs": [],
   "source": [
    "\n",
    "#!!!!!!!!!!!!!!!!!!!!!!!!!!!!!!!!!!!!!!!Second Assignment Probability!!!!!!!!!!!!!!!!!!!!!!!!!!!!!!!!!!!!!!!!!!\n",
    "\n",
    "# Module 5 - Probability Assignment\n",
    "\n",
    "# 1. Basics of Probability\n",
    "\n",
    "# a. Tossing a coin 10,000 times\n",
    "\n",
    "import random\n",
    "\n",
    "# First We Create Variable trials, heads, tails.\n",
    "\n",
    "trials = 10000\n",
    "heads = 0\n",
    "tails = 0\n",
    "\n",
    "# Then We Write A Code Where We Give The Condition.\n",
    "\n",
    "for i in range(trials):\n",
    "    if random.choice(['H', 'T']) == 'H':\n",
    "        heads += 1\n",
    "    else:\n",
    "        tails += 1\n",
    "        \n",
    "# Then We Print Heads, Tails Probability.\n",
    "\n",
    "print(\"Heads Probability:\", heads / trials)\n",
    "print(\"Tails Probability:\", tails / trials)\n",
    "\n"
   ]
  },
  {
   "cell_type": "code",
   "execution_count": null,
   "id": "24ceb3b7",
   "metadata": {},
   "outputs": [],
   "source": []
  },
  {
   "cell_type": "code",
   "execution_count": null,
   "id": "187c3390-60ea-4953-ae87-3cc2f96cb562",
   "metadata": {},
   "outputs": [],
   "source": [
    "\n",
    "# 2. Probability of getting at least one '6' in 10 rolls\n",
    "\n",
    "# In This Question I Defined A Function.\n",
    "\n",
    "def estimate_one_six_probability(trials=10000):\n",
    "    success_count = 0\n",
    "    for i in range(trials):\n",
    "        if 6 in [random.randint(1, 6) for i in range(10)]:\n",
    "            success_count += 1\n",
    "    return success_count / trials\n",
    "\n",
    "print(\"Probability of at least one 6 in 10 rolls:\", estimate_one_six_probability())\n",
    "\n",
    "# 3. Conditional Probability and Bayes' Theorem.\n",
    "\n",
    "# The Variable colors We Store Colors red, green , blue.\n",
    "\n",
    "colors = ['red'] * 5 + ['green'] * 7 + ['blue'] * 8\n",
    "prev_color = None\n",
    "red_given_blue = 0\n",
    "blue_count = 0\n",
    "trials = 1000\n",
    "\n",
    "# Then We Write A Code And We Give The Condition.\n",
    "# In This Loops Value Limit 1000 All The Value Less Then 1000 And Show\n",
    "\n",
    "for _ in range(trials):\n",
    "    current_color = random.choice(colors)\n",
    "    if prev_color == 'blue':\n",
    "        if current_color == 'red':\n",
    "            red_given_blue += 1\n",
    "        blue_count += 1\n",
    "    prev_color = current_color\n",
    "\n",
    "if blue_count > 0:\n",
    "    print(\"P(Red | Blue):\", red_given_blue / blue_count)\n",
    "else:\n",
    "    print(\"No blue followed trials found.\")"
   ]
  },
  {
   "cell_type": "code",
   "execution_count": null,
   "id": "5018ce58-e331-4db7-b489-625dc1e4e085",
   "metadata": {
    "scrolled": true
   },
   "outputs": [],
   "source": [
    "\n",
    "# 4. Discrete Random Variable Simulation\n",
    "\n",
    "import numpy as np\n",
    "\n",
    "sample = np.random.choice([1, 2, 3], size=1000, p=[0.25, 0.35, 0.4])\n",
    "print(\"Mean:\", np.mean(sample))\n",
    "print(\"Variance:\", np.var(sample))\n",
    "print(\"Standard Deviation:\", np.std(sample))"
   ]
  },
  {
   "cell_type": "code",
   "execution_count": null,
   "id": "2244d926-df37-40fa-8f7c-47d05f30b50b",
   "metadata": {},
   "outputs": [],
   "source": [
    "\n",
    "# 5. Exponential Distribution Simulation\n",
    "\n",
    "# Now Create Data Visualization. Create A Exponential Charts Show The Better View And Easy To Understand Data.\n",
    "# This Chart Show The Value And Density The Help Of Matplotlib And Seaborn.\n",
    "\n",
    "import matplotlib.pyplot as plt\n",
    "import seaborn as sns\n",
    "\n",
    "data = np.random.exponential(scale=5, size=2000)\n",
    "sns.histplot(data, kde=True, stat=\"density\", bins=30)\n",
    "plt.title(\"Exponential Distribution with PDF\")\n",
    "plt.xlabel(\"Value\")\n",
    "plt.ylabel(\"Density\")\n",
    "plt.show()"
   ]
  },
  {
   "cell_type": "code",
   "execution_count": null,
   "id": "0a2897da-1116-4683-95d3-00ff91a6bacf",
   "metadata": {},
   "outputs": [],
   "source": [
    "\n",
    "# 6. Central Limit Theorem Simulation\n",
    "\n",
    "# Now Create Data Visualization. Create A Histrogram Charts Show The Better View And Easy To Understand Data.\n",
    "# Create Two Charts The Title Of Two Charts is Uniform Distribution And Sample Means Distribution (CLT).\n",
    "\n",
    "uniform_data = np.random.uniform(0, 1, 10000)\n",
    "sample_means = [np.mean(np.random.choice(uniform_data, size=30)) for _ in range(1000)]\n",
    "\n",
    "plt.figure(figsize=(12, 5))\n",
    "plt.subplot(1, 2, 1)\n",
    "plt.hist(uniform_data, bins=30, color='skyblue', edgecolor='black')\n",
    "plt.title(\"Uniform Distribution\")\n",
    "\n",
    "plt.subplot(1, 2, 2)\n",
    "plt.hist(sample_means, bins=30, color='salmon', edgecolor='black')\n",
    "plt.title(\"Sample Means Distribution (CLT)\")\n",
    "plt.show()"
   ]
  },
  {
   "cell_type": "code",
   "execution_count": null,
   "id": "6d945acc-aa8a-4554-85e3-5859a5283f93",
   "metadata": {},
   "outputs": [],
   "source": []
  }
 ],
 "metadata": {
  "kernelspec": {
   "display_name": "Python 3 (ipykernel)",
   "language": "python",
   "name": "python3"
  },
  "language_info": {
   "codemirror_mode": {
    "name": "ipython",
    "version": 3
   },
   "file_extension": ".py",
   "mimetype": "text/x-python",
   "name": "python",
   "nbconvert_exporter": "python",
   "pygments_lexer": "ipython3",
   "version": "3.13.5"
  }
 },
 "nbformat": 4,
 "nbformat_minor": 5
}
